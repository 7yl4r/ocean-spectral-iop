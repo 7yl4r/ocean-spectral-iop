{
  "cells": [
    {
      "cell_type": "code",
      "execution_count": 1,
      "id": "b85a971d",
      "metadata": {
        "id": "b85a971d"
      },
      "outputs": [],
      "source": [
        "import os\n",
        "\n",
        "import matplotlib.pyplot as plt\n",
        "import pandas as pd"
      ]
    },
    {
      "cell_type": "code",
      "source": [
        "from google.colab import drive\n",
        "\n",
        "import os\n",
        "import shutil\n",
        "\n",
        "# URL of the raw file on GitHub\n",
        "github_raw_file_url = \"https://raw.githubusercontent.com/7yl4r/ocean-spectral-iop/master/data/...\"\n",
        "\n",
        "# Destination path to save the downloaded file\n",
        "destination_path = \"/content/filename.ext\"  # Change 'filename.ext' to the desired filename\n",
        "\n",
        "# Download the file using wget\n",
        "os.system(f\"wget {github_raw_file_url} -O {destination_path}\")\n",
        "\n",
        "\n",
        "drive.mount('/content/drive')\n",
        "\n",
        "# Move the downloaded file to Google Drive (if mounted)\n",
        "shutil.move(destination_path, \"/content/drive/MyDrive/\")\n",
        "\n",
        "Remember to adjust the file paths and URLs according to your specific use case. This method allows you to cleanly download files from GitHub and work with them in your Google Colab notebook.\n"
      ],
      "metadata": {
        "id": "RdefrulJzDeG",
        "outputId": "e886f8b9-e330-441f-9d7f-38e29602043b",
        "colab": {
          "base_uri": "https://localhost:8080/"
        }
      },
      "id": "RdefrulJzDeG",
      "execution_count": 3,
      "outputs": [
        {
          "output_type": "stream",
          "name": "stdout",
          "text": [
            "Mounted at /content/drive\n"
          ]
        }
      ]
    },
    {
      "cell_type": "code",
      "execution_count": 2,
      "id": "8adf375f",
      "metadata": {
        "id": "8adf375f",
        "outputId": "f07c45e8-cccc-4b41-b2d3-5a51991af888",
        "colab": {
          "base_uri": "https://localhost:8080/",
          "height": 424
        }
      },
      "outputs": [
        {
          "output_type": "error",
          "ename": "FileNotFoundError",
          "evalue": "ignored",
          "traceback": [
            "\u001b[0;31m---------------------------------------------------------------------------\u001b[0m",
            "\u001b[0;31mFileNotFoundError\u001b[0m                         Traceback (most recent call last)",
            "\u001b[0;32m<ipython-input-2-070d4526135f>\u001b[0m in \u001b[0;36m<cell line: 17>\u001b[0;34m()\u001b[0m\n\u001b[1;32m     15\u001b[0m \u001b[0;31m# Start from the process_log files\u001b[0m\u001b[0;34m\u001b[0m\u001b[0;34m\u001b[0m\u001b[0m\n\u001b[1;32m     16\u001b[0m \u001b[0mprocess_log_fpath\u001b[0m \u001b[0;34m=\u001b[0m \u001b[0;34m\"../data/process_logs/WS19322_2019_11_abs.xlsx\"\u001b[0m\u001b[0;34m\u001b[0m\u001b[0;34m\u001b[0m\u001b[0m\n\u001b[0;32m---> 17\u001b[0;31m df = pd.read_excel(\n\u001b[0m\u001b[1;32m     18\u001b[0m     \u001b[0mprocess_log_fpath\u001b[0m\u001b[0;34m,\u001b[0m\u001b[0;34m\u001b[0m\u001b[0;34m\u001b[0m\u001b[0m\n\u001b[1;32m     19\u001b[0m     \u001b[0msheet_name\u001b[0m\u001b[0;34m=\u001b[0m\u001b[0;34m\"metadata\"\u001b[0m\u001b[0;34m\u001b[0m\u001b[0;34m\u001b[0m\u001b[0m\n",
            "\u001b[0;32m/usr/local/lib/python3.10/dist-packages/pandas/util/_decorators.py\u001b[0m in \u001b[0;36mwrapper\u001b[0;34m(*args, **kwargs)\u001b[0m\n\u001b[1;32m    209\u001b[0m                 \u001b[0;32melse\u001b[0m\u001b[0;34m:\u001b[0m\u001b[0;34m\u001b[0m\u001b[0;34m\u001b[0m\u001b[0m\n\u001b[1;32m    210\u001b[0m                     \u001b[0mkwargs\u001b[0m\u001b[0;34m[\u001b[0m\u001b[0mnew_arg_name\u001b[0m\u001b[0;34m]\u001b[0m \u001b[0;34m=\u001b[0m \u001b[0mnew_arg_value\u001b[0m\u001b[0;34m\u001b[0m\u001b[0;34m\u001b[0m\u001b[0m\n\u001b[0;32m--> 211\u001b[0;31m             \u001b[0;32mreturn\u001b[0m \u001b[0mfunc\u001b[0m\u001b[0;34m(\u001b[0m\u001b[0;34m*\u001b[0m\u001b[0margs\u001b[0m\u001b[0;34m,\u001b[0m \u001b[0;34m**\u001b[0m\u001b[0mkwargs\u001b[0m\u001b[0;34m)\u001b[0m\u001b[0;34m\u001b[0m\u001b[0;34m\u001b[0m\u001b[0m\n\u001b[0m\u001b[1;32m    212\u001b[0m \u001b[0;34m\u001b[0m\u001b[0m\n\u001b[1;32m    213\u001b[0m         \u001b[0;32mreturn\u001b[0m \u001b[0mcast\u001b[0m\u001b[0;34m(\u001b[0m\u001b[0mF\u001b[0m\u001b[0;34m,\u001b[0m \u001b[0mwrapper\u001b[0m\u001b[0;34m)\u001b[0m\u001b[0;34m\u001b[0m\u001b[0;34m\u001b[0m\u001b[0m\n",
            "\u001b[0;32m/usr/local/lib/python3.10/dist-packages/pandas/util/_decorators.py\u001b[0m in \u001b[0;36mwrapper\u001b[0;34m(*args, **kwargs)\u001b[0m\n\u001b[1;32m    329\u001b[0m                     \u001b[0mstacklevel\u001b[0m\u001b[0;34m=\u001b[0m\u001b[0mfind_stack_level\u001b[0m\u001b[0;34m(\u001b[0m\u001b[0;34m)\u001b[0m\u001b[0;34m,\u001b[0m\u001b[0;34m\u001b[0m\u001b[0;34m\u001b[0m\u001b[0m\n\u001b[1;32m    330\u001b[0m                 )\n\u001b[0;32m--> 331\u001b[0;31m             \u001b[0;32mreturn\u001b[0m \u001b[0mfunc\u001b[0m\u001b[0;34m(\u001b[0m\u001b[0;34m*\u001b[0m\u001b[0margs\u001b[0m\u001b[0;34m,\u001b[0m \u001b[0;34m**\u001b[0m\u001b[0mkwargs\u001b[0m\u001b[0;34m)\u001b[0m\u001b[0;34m\u001b[0m\u001b[0;34m\u001b[0m\u001b[0m\n\u001b[0m\u001b[1;32m    332\u001b[0m \u001b[0;34m\u001b[0m\u001b[0m\n\u001b[1;32m    333\u001b[0m         \u001b[0;31m# error: \"Callable[[VarArg(Any), KwArg(Any)], Any]\" has no\u001b[0m\u001b[0;34m\u001b[0m\u001b[0;34m\u001b[0m\u001b[0m\n",
            "\u001b[0;32m/usr/local/lib/python3.10/dist-packages/pandas/io/excel/_base.py\u001b[0m in \u001b[0;36mread_excel\u001b[0;34m(io, sheet_name, header, names, index_col, usecols, squeeze, dtype, engine, converters, true_values, false_values, skiprows, nrows, na_values, keep_default_na, na_filter, verbose, parse_dates, date_parser, thousands, decimal, comment, skipfooter, convert_float, mangle_dupe_cols, storage_options)\u001b[0m\n\u001b[1;32m    480\u001b[0m     \u001b[0;32mif\u001b[0m \u001b[0;32mnot\u001b[0m \u001b[0misinstance\u001b[0m\u001b[0;34m(\u001b[0m\u001b[0mio\u001b[0m\u001b[0;34m,\u001b[0m \u001b[0mExcelFile\u001b[0m\u001b[0;34m)\u001b[0m\u001b[0;34m:\u001b[0m\u001b[0;34m\u001b[0m\u001b[0;34m\u001b[0m\u001b[0m\n\u001b[1;32m    481\u001b[0m         \u001b[0mshould_close\u001b[0m \u001b[0;34m=\u001b[0m \u001b[0;32mTrue\u001b[0m\u001b[0;34m\u001b[0m\u001b[0;34m\u001b[0m\u001b[0m\n\u001b[0;32m--> 482\u001b[0;31m         \u001b[0mio\u001b[0m \u001b[0;34m=\u001b[0m \u001b[0mExcelFile\u001b[0m\u001b[0;34m(\u001b[0m\u001b[0mio\u001b[0m\u001b[0;34m,\u001b[0m \u001b[0mstorage_options\u001b[0m\u001b[0;34m=\u001b[0m\u001b[0mstorage_options\u001b[0m\u001b[0;34m,\u001b[0m \u001b[0mengine\u001b[0m\u001b[0;34m=\u001b[0m\u001b[0mengine\u001b[0m\u001b[0;34m)\u001b[0m\u001b[0;34m\u001b[0m\u001b[0;34m\u001b[0m\u001b[0m\n\u001b[0m\u001b[1;32m    483\u001b[0m     \u001b[0;32melif\u001b[0m \u001b[0mengine\u001b[0m \u001b[0;32mand\u001b[0m \u001b[0mengine\u001b[0m \u001b[0;34m!=\u001b[0m \u001b[0mio\u001b[0m\u001b[0;34m.\u001b[0m\u001b[0mengine\u001b[0m\u001b[0;34m:\u001b[0m\u001b[0;34m\u001b[0m\u001b[0;34m\u001b[0m\u001b[0m\n\u001b[1;32m    484\u001b[0m         raise ValueError(\n",
            "\u001b[0;32m/usr/local/lib/python3.10/dist-packages/pandas/io/excel/_base.py\u001b[0m in \u001b[0;36m__init__\u001b[0;34m(self, path_or_buffer, engine, storage_options)\u001b[0m\n\u001b[1;32m   1650\u001b[0m                 \u001b[0mext\u001b[0m \u001b[0;34m=\u001b[0m \u001b[0;34m\"xls\"\u001b[0m\u001b[0;34m\u001b[0m\u001b[0;34m\u001b[0m\u001b[0m\n\u001b[1;32m   1651\u001b[0m             \u001b[0;32melse\u001b[0m\u001b[0;34m:\u001b[0m\u001b[0;34m\u001b[0m\u001b[0;34m\u001b[0m\u001b[0m\n\u001b[0;32m-> 1652\u001b[0;31m                 ext = inspect_excel_format(\n\u001b[0m\u001b[1;32m   1653\u001b[0m                     \u001b[0mcontent_or_path\u001b[0m\u001b[0;34m=\u001b[0m\u001b[0mpath_or_buffer\u001b[0m\u001b[0;34m,\u001b[0m \u001b[0mstorage_options\u001b[0m\u001b[0;34m=\u001b[0m\u001b[0mstorage_options\u001b[0m\u001b[0;34m\u001b[0m\u001b[0;34m\u001b[0m\u001b[0m\n\u001b[1;32m   1654\u001b[0m                 )\n",
            "\u001b[0;32m/usr/local/lib/python3.10/dist-packages/pandas/io/excel/_base.py\u001b[0m in \u001b[0;36minspect_excel_format\u001b[0;34m(content_or_path, storage_options)\u001b[0m\n\u001b[1;32m   1523\u001b[0m         \u001b[0mcontent_or_path\u001b[0m \u001b[0;34m=\u001b[0m \u001b[0mBytesIO\u001b[0m\u001b[0;34m(\u001b[0m\u001b[0mcontent_or_path\u001b[0m\u001b[0;34m)\u001b[0m\u001b[0;34m\u001b[0m\u001b[0;34m\u001b[0m\u001b[0m\n\u001b[1;32m   1524\u001b[0m \u001b[0;34m\u001b[0m\u001b[0m\n\u001b[0;32m-> 1525\u001b[0;31m     with get_handle(\n\u001b[0m\u001b[1;32m   1526\u001b[0m         \u001b[0mcontent_or_path\u001b[0m\u001b[0;34m,\u001b[0m \u001b[0;34m\"rb\"\u001b[0m\u001b[0;34m,\u001b[0m \u001b[0mstorage_options\u001b[0m\u001b[0;34m=\u001b[0m\u001b[0mstorage_options\u001b[0m\u001b[0;34m,\u001b[0m \u001b[0mis_text\u001b[0m\u001b[0;34m=\u001b[0m\u001b[0;32mFalse\u001b[0m\u001b[0;34m\u001b[0m\u001b[0;34m\u001b[0m\u001b[0m\n\u001b[1;32m   1527\u001b[0m     ) as handle:\n",
            "\u001b[0;32m/usr/local/lib/python3.10/dist-packages/pandas/io/common.py\u001b[0m in \u001b[0;36mget_handle\u001b[0;34m(path_or_buf, mode, encoding, compression, memory_map, is_text, errors, storage_options)\u001b[0m\n\u001b[1;32m    863\u001b[0m         \u001b[0;32melse\u001b[0m\u001b[0;34m:\u001b[0m\u001b[0;34m\u001b[0m\u001b[0;34m\u001b[0m\u001b[0m\n\u001b[1;32m    864\u001b[0m             \u001b[0;31m# Binary mode\u001b[0m\u001b[0;34m\u001b[0m\u001b[0;34m\u001b[0m\u001b[0m\n\u001b[0;32m--> 865\u001b[0;31m             \u001b[0mhandle\u001b[0m \u001b[0;34m=\u001b[0m \u001b[0mopen\u001b[0m\u001b[0;34m(\u001b[0m\u001b[0mhandle\u001b[0m\u001b[0;34m,\u001b[0m \u001b[0mioargs\u001b[0m\u001b[0;34m.\u001b[0m\u001b[0mmode\u001b[0m\u001b[0;34m)\u001b[0m\u001b[0;34m\u001b[0m\u001b[0;34m\u001b[0m\u001b[0m\n\u001b[0m\u001b[1;32m    866\u001b[0m         \u001b[0mhandles\u001b[0m\u001b[0;34m.\u001b[0m\u001b[0mappend\u001b[0m\u001b[0;34m(\u001b[0m\u001b[0mhandle\u001b[0m\u001b[0;34m)\u001b[0m\u001b[0;34m\u001b[0m\u001b[0;34m\u001b[0m\u001b[0m\n\u001b[1;32m    867\u001b[0m \u001b[0;34m\u001b[0m\u001b[0m\n",
            "\u001b[0;31mFileNotFoundError\u001b[0m: [Errno 2] No such file or directory: '../data/process_logs/WS19322_2019_11_abs.xlsx'"
          ]
        }
      ],
      "source": [
        "def plot_spectral(spectral_fname, raw_data_dir=\"../data/12APR2023\"):\n",
        "    \"\"\"do spectral line plot for given partial filename\"\"\"\n",
        "    ap = pd.read_csv(f\"{raw_data_dir}/{spectral_fname}.Sample.Raw.csv\")\n",
        "    plt.plot(ap[\"nm\"], ap[\" A\"], label=spectral_fname)\n",
        "\n",
        "\n",
        "def plot_blanks(raw_data_dir):\n",
        "    \"\"\"plot the blanks for the given processing day\"\"\"\n",
        "    for index, blank in get_blanks(raw_data_dir).iterrows():\n",
        "        # print(f\"opening file {blank['Sample ID']}...\")\n",
        "        plot_spectral(blank['Sample ID'])\n",
        "        plt.legend(loc=2, ncol=2)\n",
        "\n",
        "\n",
        "# Start from the process_log files\n",
        "process_log_fpath = \"../data/process_logs/WS19322_2019_11_abs.xlsx\"\n",
        "df = pd.read_excel(\n",
        "    process_log_fpath,\n",
        "    sheet_name=\"metadata\"\n",
        ")\n",
        "\n",
        "samples_to_process = []\n",
        "for index, row in df.iterrows():\n",
        "    # get the ap + ad filename from the columns\n",
        "    date = row[0]\n",
        "    time = row[1]\n",
        "    lat = row[2]\n",
        "    lon = row[3]\n",
        "    bottom_depth = row[4]\n",
        "    sample_depth = row[5]\n",
        "    # station_id = row[6]\n",
        "    # process_date = row[7]\n",
        "    # instrument = row[8]\n",
        "    sample_id = row[\"Sample ID\"]  # row 9\n",
        "    ap_file = row[10]\n",
        "    ad_file = row[11]\n",
        "    # ...\n",
        "    # print(date, time)\n",
        "    # print(lat, lon)\n",
        "    # print(bottom_depth, sample_depth)\n",
        "    # print(sample_id, ap_file, ad_file)\n",
        "    samples_to_process.append([sample_id, ap_file, ad_file])\n",
        "\n",
        "# TODO: can get volume_seawater_filtered from Chl-a sheet from the xlsx looked up by the sample_id\n",
        "\n",
        "# print(samples_to_process)\n",
        "\n",
        "plot_blanks(raw_data_dir=\"../data/12APR2023\")\n",
        "\n",
        "# TODO: pick 3 blanks(or zeros?) to report\n",
        "\n",
        "# plot_spectral(samples_to_process[0][1])  # plots the ap_file, use [0][2] for ad"
      ]
    },
    {
      "cell_type": "code",
      "execution_count": null,
      "id": "a98daf30",
      "metadata": {
        "id": "a98daf30"
      },
      "outputs": [],
      "source": [
        "def get_blanks(raw_data_dir=\"../data/12APR2023\"):\n",
        "    # Look through the directory of \"raw\" files\n",
        "    # example filename : mbon_imars_cruises/years/2019/WS19322/apad/12APR2023/\n",
        "    DESC = \" Description\"\n",
        "\n",
        "    results_table_fpath = f\"{raw_data_dir}/Results Table.csv\"\n",
        "\n",
        "    results_df = pd.read_csv(\n",
        "        results_table_fpath,\n",
        "        usecols = [0,1,2]\n",
        "    )\n",
        "    # look through \"Description\" column, list the sample-ids (that match metadata), zeros, blanks, other\n",
        "\n",
        "    # clear out ap and ad\n",
        "    results_df = results_df[~results_df[DESC].str.contains(\"ap\")]\n",
        "    results_df = results_df[~results_df[DESC].str.contains(\"ad\")]\n",
        "\n",
        "    # clear out the blanks\n",
        "    blanks_df = results_df[results_df[DESC].str.contains(\"blank\")]\n",
        "    results_df = results_df[~results_df[DESC].str.contains(\"blank\")]\n",
        "    print(\"\\n=== blanks ===\\n\", blanks_df)\n",
        "\n",
        "    # clear out the zeros\n",
        "    zeros_df = results_df[results_df[DESC].str.contains(\"zero\")]\n",
        "    results_df = results_df[~results_df[DESC].str.contains(\"zero\")]\n",
        "    print(\"\\n=== zeros ===\\n\", zeros_df)\n",
        "\n",
        "    # print what is left\n",
        "    print(\"\\n=== unknown samples ===\\n\", results_df)\n",
        "\n",
        "    return(blanks_df)"
      ]
    },
    {
      "cell_type": "code",
      "execution_count": null,
      "id": "2ed22a0f",
      "metadata": {
        "id": "2ed22a0f"
      },
      "outputs": [],
      "source": [
        "# TODO: # open and read PE lambda 850+ ascii files"
      ]
    },
    {
      "cell_type": "code",
      "execution_count": null,
      "id": "6e68f440",
      "metadata": {
        "id": "6e68f440"
      },
      "outputs": [],
      "source": [
        "# TODO: open process_log files with metadata"
      ]
    },
    {
      "cell_type": "code",
      "execution_count": null,
      "id": "b2f07cf5",
      "metadata": {
        "id": "b2f07cf5"
      },
      "outputs": [],
      "source": [
        "# TODO: calculate ap and ad"
      ]
    }
  ],
  "metadata": {
    "kernelspec": {
      "display_name": "Python 3 (ipykernel)",
      "language": "python",
      "name": "python3"
    },
    "language_info": {
      "codemirror_mode": {
        "name": "ipython",
        "version": 3
      },
      "file_extension": ".py",
      "mimetype": "text/x-python",
      "name": "python",
      "nbconvert_exporter": "python",
      "pygments_lexer": "ipython3",
      "version": "3.9.12"
    },
    "colab": {
      "provenance": []
    }
  },
  "nbformat": 4,
  "nbformat_minor": 5
}
