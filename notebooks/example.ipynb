{
  "nbformat": 4,
  "nbformat_minor": 0,
  "metadata": {
    "colab": {
      "name": "example.ipynb",
      "provenance": []
    },
    "kernelspec": {
      "name": "python3",
      "display_name": "Python 3"
    },
    "language_info": {
      "name": "python"
    }
  },
  "cells": [
    {
      "cell_type": "markdown",
      "source": [
        "# Example Notebook\n",
        "This is an example research notebook."
      ],
      "metadata": {
        "id": "JgB6XMbm5U7v"
      }
    },
    {
      "cell_type": "code",
      "execution_count": 2,
      "metadata": {
        "id": "1WaGrqj6gKWk",
        "colab": {
          "base_uri": "https://localhost:8080/"
        },
        "outputId": "a2152e10-366b-4955-cf23-c71d1a1de227"
      },
      "outputs": [
        {
          "output_type": "stream",
          "name": "stdout",
          "text": [
            "This is some example python code.\n"
          ]
        }
      ],
      "source": [
        "print(\"This is some example python code.\")"
      ]
    },
    {
      "cell_type": "code",
      "source": [
        ""
      ],
      "metadata": {
        "id": "9GH7w7MC5gL-"
      },
      "execution_count": null,
      "outputs": []
    }
  ]
}
